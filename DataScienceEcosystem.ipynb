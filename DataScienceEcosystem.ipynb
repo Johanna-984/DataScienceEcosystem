{
 "cells": [
  {
   "cell_type": "markdown",
   "id": "373dc1c9",
   "metadata": {},
   "source": [
    "Data Science Tools and Ecosystem"
   ]
  },
  {
   "cell_type": "markdown",
   "id": "9a3ce77e",
   "metadata": {},
   "source": [
    "En este cuaderno, se resumen las herramientas y ecosistemas de ciencia de datos."
   ]
  },
  {
   "cell_type": "markdown",
   "id": "5a86e112",
   "metadata": {},
   "source": [
    "Algunos de los lenguajes populares que utilizan los científicos de datos son:\n",
    "   1. Python\n",
    "   2. Java\n",
    "   3. C++"
   ]
  },
  {
   "cell_type": "markdown",
   "id": "facf2879",
   "metadata": {},
   "source": [
    "Algunas de las bibliotecas comúnmente utilizadas por los científicos de datos incluyen:\n",
    "   \n",
    "1. Pandas\n",
    "2. Numpy\n",
    "3. Matplotlib\n",
    "4. Seaborn\n",
    "5. Plotly"
   ]
  },
  {
   "cell_type": "markdown",
   "id": "1cbb6831",
   "metadata": {},
   "source": [
    "Herramientas de Ciencia de Datos\n",
    "\n",
    "1. Jupyter Notebooks\n",
    "2. RStudio\n",
    "3. Apache Spark"
   ]
  },
  {
   "cell_type": "markdown",
   "id": "9fb0756f",
   "metadata": {},
   "source": [
    "A continuación, se presentan algunos ejemplos de evaluación de expresiones aritméticas en Python"
   ]
  },
  {
   "cell_type": "code",
   "execution_count": 3,
   "id": "780e4d10",
   "metadata": {},
   "outputs": [
    {
     "data": {
      "text/plain": [
       "17"
      ]
     },
     "execution_count": 3,
     "metadata": {},
     "output_type": "execute_result"
    }
   ],
   "source": [
    "# Esta es una expresión aritmética simple para multiplicar y luego sumar enteros\n",
    "(3*4)+5"
   ]
  },
  {
   "cell_type": "code",
   "execution_count": 7,
   "id": "791eb777",
   "metadata": {},
   "outputs": [
    {
     "name": "stdout",
     "output_type": "stream",
     "text": [
      "3.3333333333333335\n"
     ]
    }
   ],
   "source": [
    "# Esto convertirá 200 minutos a horas dividiendo por 60\n",
    "minutos = 200\n",
    "horas = 200/60\n",
    "print (horas)"
   ]
  },
  {
   "cell_type": "markdown",
   "id": "49fabdb8",
   "metadata": {},
   "source": [
    "Objetivos:\n",
    "1. Listar lenguajes populares para Ciencia de Datos\n",
    "2. Introduccion a Jupyter notebook\n",
    "3. Expresiones matematicas"
   ]
  },
  {
   "cell_type": "markdown",
   "id": "e7840841",
   "metadata": {},
   "source": [
    "Autor:\n",
    "    Johanna Martinez"
   ]
  }
 ],
 "metadata": {
  "kernelspec": {
   "display_name": "Python 3",
   "language": "python",
   "name": "python3"
  },
  "language_info": {
   "codemirror_mode": {
    "name": "ipython",
    "version": 3
   },
   "file_extension": ".py",
   "mimetype": "text/x-python",
   "name": "python",
   "nbconvert_exporter": "python",
   "pygments_lexer": "ipython3",
   "version": "3.10.0"
  }
 },
 "nbformat": 4,
 "nbformat_minor": 5
}
